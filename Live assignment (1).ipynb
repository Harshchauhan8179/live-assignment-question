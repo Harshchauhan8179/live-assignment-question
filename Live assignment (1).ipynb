{
 "cells": [
  {
   "cell_type": "code",
   "execution_count": 1,
   "id": "c8605c1f-b6ef-44a2-83ed-07fd37a563de",
   "metadata": {},
   "outputs": [
    {
     "data": {
      "text/plain": [
       "'nahom'"
      ]
     },
     "execution_count": 1,
     "metadata": {},
     "output_type": "execute_result"
    }
   ],
   "source": [
    "#Q1 write a code to reverse a string.\n",
    "s=\"mohan\"\n",
    "s[::-1]"
   ]
  },
  {
   "cell_type": "code",
   "execution_count": 2,
   "id": "1568583a-9133-4523-aed1-ee137617cf6f",
   "metadata": {},
   "outputs": [
    {
     "name": "stdout",
     "output_type": "stream",
     "text": [
      "a : 2\n",
      "e : 1\n",
      "o : 1\n",
      "u : 1\n"
     ]
    }
   ],
   "source": [
    "#Q2. Write a code to count the number of vowels in a string.\n",
    "s=\"ramaoue\"\n",
    "v=\"aieou\"\n",
    "k=0\n",
    "for i in v:\n",
    "    if i  in s:\n",
    "        j=s.count(i)\n",
    "        print(i ,\":\" ,j)"
   ]
  },
  {
   "cell_type": "code",
   "execution_count": 3,
   "id": "c07ad696-41e9-464d-8520-1293a665c334",
   "metadata": {},
   "outputs": [
    {
     "name": "stdout",
     "output_type": "stream",
     "text": [
      "String is Palindromic\n"
     ]
    }
   ],
   "source": [
    "#Q3. Write a code to check if a given strings is a palindromic or not\n",
    "s=\"madam\"\n",
    "n=len(s)\n",
    "for i in range(0,n//2):\n",
    "    if(s[i]==s[n-i-1]):\n",
    "        print(\"String is Palindromic\")\n",
    "        break\n",
    "    else:\n",
    "        print(\"given string is not palindromic\")\n",
    "        break"
   ]
  },
  {
   "cell_type": "code",
   "execution_count": 4,
   "id": "247fc726-410e-4e22-8fba-571f6f287292",
   "metadata": {},
   "outputs": [
    {
     "name": "stdout",
     "output_type": "stream",
     "text": [
      "String is anagrams !\n"
     ]
    }
   ],
   "source": [
    "#Q4 Write a code  to check if two given strings are anagrams of each other.\n",
    "s=\"ram\"\n",
    "s1=\"mar\"\n",
    "if(sorted(s)==sorted(s1)):\n",
    "    print(\"String is anagrams !\")\n",
    "else:\n",
    "    print(\"String is not anagrams !\")"
   ]
  },
  {
   "cell_type": "code",
   "execution_count": 5,
   "id": "20d25ab4-320c-42f2-bc1a-64442b3c3269",
   "metadata": {},
   "outputs": [
    {
     "name": "stdout",
     "output_type": "stream",
     "text": [
      "1 8 "
     ]
    }
   ],
   "source": [
    "#Q5. Write a code to find all occurrence  of a given substring within another string\n",
    "s=\"helloforell\"\n",
    "s1=\"ell\"\n",
    "f=False\n",
    "for i in range(len(s)):\n",
    "    if(s[i:i+len(s1)]==s1):\n",
    "        print(i, end =\" \")\n",
    "        f=True\n",
    "if(f==False):\n",
    "    print(\"None\")"
   ]
  },
  {
   "cell_type": "code",
   "execution_count": 6,
   "id": "456ee9aa-f02d-4252-b33b-e483d32d96a1",
   "metadata": {},
   "outputs": [
    {
     "name": "stdout",
     "output_type": "stream",
     "text": [
      "{'a': 2, 'b': 2, 'c': 2}\n"
     ]
    }
   ],
   "source": [
    "#Q6 Write a code to perform basic string compression using the counts of repeated characters.\n",
    "s=\"abbacc\"\n",
    "s1={}\n",
    "for i in s:\n",
    "    if i in s1:\n",
    "        s1[i]+=1\n",
    "    else:\n",
    "        s1[i]=1\n",
    "print(s1)"
   ]
  },
  {
   "cell_type": "code",
   "execution_count": 7,
   "id": "cb0fa137-36f9-4bfa-99c8-38ec9ecd1ed8",
   "metadata": {},
   "outputs": [
    {
     "name": "stdin",
     "output_type": "stream",
     "text": [
      "enter the string harshh\n"
     ]
    },
    {
     "name": "stdout",
     "output_type": "stream",
     "text": [
      "False\n"
     ]
    }
   ],
   "source": [
    "# Q7. Write a code to determine if a string has all uique characters.\n",
    "s=input(\"enter the string\")\n",
    "s1=set(s)\n",
    "if len(s)==len(s1):\n",
    "    print(True)\n",
    "else:\n",
    "    print(False)"
   ]
  },
  {
   "cell_type": "code",
   "execution_count": 8,
   "id": "7e5d5a47-2c90-4832-be59-deaed8599fc1",
   "metadata": {},
   "outputs": [
    {
     "name": "stdout",
     "output_type": "stream",
     "text": [
      "to convert a given string to uppercase : MY STRENGTH IS MY FAMILY\n",
      "to convert a given string to lowercase :  my strength is my family\n"
     ]
    }
   ],
   "source": [
    "#Q8.Write a code to convert a given string to uppercase or lowercase.\n",
    "string=\"My strength IS mY FaMiLy\"\n",
    "print(\"to convert a given string to uppercase :\" ,string.upper())\n",
    "print(\"to convert a given string to lowercase : \" ,string.lower())"
   ]
  },
  {
   "cell_type": "code",
   "execution_count": 9,
   "id": "e26d837c-43e2-4a10-80cb-c06fa332afdc",
   "metadata": {},
   "outputs": [
    {
     "name": "stdout",
     "output_type": "stream",
     "text": [
      "3\n"
     ]
    }
   ],
   "source": [
    "#Q9. Write a code to count the number of words in a string.\n",
    "s=\"count the number\"\n",
    "count=0\n",
    "word=False\n",
    "for char in s:\n",
    "    if char!=' ':\n",
    "        if  not  word:\n",
    "            count+=1\n",
    "            word=True\n",
    "    else:\n",
    "        word=False\n",
    "print(count)"
   ]
  },
  {
   "cell_type": "code",
   "execution_count": 10,
   "id": "c4bb9132-d63b-4292-b096-4b7292747ff3",
   "metadata": {},
   "outputs": [
    {
     "name": "stdout",
     "output_type": "stream",
     "text": [
      "hellomikki\n"
     ]
    }
   ],
   "source": [
    "#Q10.Write a code to concatenate two string without using + operator\n",
    "s1=\"hello\"\n",
    "s2=\"mikki\"\n",
    "print(f\"{s1}{s2}\")"
   ]
  },
  {
   "cell_type": "code",
   "execution_count": 11,
   "id": "81d5a2ea-0d50-4b77-a949-bf2ad871050d",
   "metadata": {},
   "outputs": [
    {
     "name": "stdin",
     "output_type": "stream",
     "text": [
      "enter the specific number: 10\n"
     ]
    },
    {
     "name": "stdout",
     "output_type": "stream",
     "text": [
      "after removing the specific element from list: [2, 3, 4, 3, 2, 3, 4, 3, 1, 2, 3, 4, 3]\n"
     ]
    }
   ],
   "source": [
    "#Q11 Write a code to remove all occurrences  of a specific element from a list.\n",
    "list1=[2,3,4,3,2,3,4,3,1,2,3,4,3]\n",
    "l=[]\n",
    "element=int(input(\"enter the specific number:\"))\n",
    "for i in list1:\n",
    "    if i!= element:\n",
    "        l.append(i)\n",
    "print(\"after removing the specific element from list:\",l)"
   ]
  },
  {
   "cell_type": "code",
   "execution_count": 12,
   "id": "42c596a6-ea7c-4446-b421-f48fdaeef1b3",
   "metadata": {},
   "outputs": [
    {
     "name": "stdout",
     "output_type": "stream",
     "text": [
      "76\n"
     ]
    }
   ],
   "source": [
    "#Q12. Implement a code to find the second largest number in a given in the given list of integer.\n",
    "list1=[23,45,67,98,76,54,24]\n",
    "largest=0\n",
    "second_largest=0\n",
    "for i in list1:\n",
    "    if i>largest:\n",
    "        second_largest=largest\n",
    "        largest=i\n",
    "    elif largest>i>second_largest:\n",
    "        second_largest=i\n",
    "print(second_largest)"
   ]
  },
  {
   "cell_type": "code",
   "execution_count": 13,
   "id": "25debcdd-d504-4833-bdbb-4ec68b8fa39e",
   "metadata": {},
   "outputs": [
    {
     "name": "stdout",
     "output_type": "stream",
     "text": [
      "{2: 6, 3: 4, 4: 3, 5: 2, 6: 1, 1: 3}\n"
     ]
    }
   ],
   "source": [
    "#Q13. Create a code to count the occurence of each element in a list and return a dictionary with element as keys\n",
    "#and their count as values.\n",
    "list1=[2,3,4,5,6,2,4,3,5,4,3,2,1,2,3,2,1,1,2]\n",
    "dict1={}\n",
    "for i in list1:\n",
    "    if i in dict1:\n",
    "        dict1[i]+=1\n",
    "    else:\n",
    "        dict1[i]=1\n",
    "print(dict1)"
   ]
  },
  {
   "cell_type": "code",
   "execution_count": 14,
   "id": "aecdd9f5-a46c-4d45-b87b-e60c68efbeb3",
   "metadata": {},
   "outputs": [
    {
     "name": "stdout",
     "output_type": "stream",
     "text": [
      "[6, 5, 4, 3, 2, 1]\n"
     ]
    }
   ],
   "source": [
    "#Q14. Write a code to reverse a list in-place without using any built in reverse functions.\n",
    "list1=[1,2,3,4,5,6]\n",
    "print(list1[::-1])"
   ]
  },
  {
   "cell_type": "code",
   "execution_count": 15,
   "id": "62ebd120-e79b-417c-9013-7468d8560da7",
   "metadata": {},
   "outputs": [
    {
     "name": "stdout",
     "output_type": "stream",
     "text": [
      "find the duplicates element from  list :  [4, 3, 5]\n",
      "after remove the duplicates element from list while perserving the original order of element :  [2, 3, 4, 5]\n"
     ]
    }
   ],
   "source": [
    "#Q15.Implement a code to find and remove duplicates from a list while perserving the original order of element.\n",
    "l=[2,3,4,5,4,3,5]\n",
    "l1=[]\n",
    "l2=[]\n",
    "for i in l:\n",
    "    if i not in l1:\n",
    "        l1.append(i)\n",
    "    else:\n",
    "        l2.append(i)\n",
    "print(\"find the duplicates element from  list : \" ,l2)\n",
    "print(\"after remove the duplicates element from list while perserving the original order of element : \",l1)"
   ]
  },
  {
   "cell_type": "code",
   "execution_count": 16,
   "id": "1a27c254-1ae3-47b8-9e7a-0483c4d0e63a",
   "metadata": {},
   "outputs": [
    {
     "name": "stdout",
     "output_type": "stream",
     "text": [
      "True\n"
     ]
    }
   ],
   "source": [
    "#Q16. Create a code to check if a given list is sorted (either in ascending or descending order) or not\n",
    "l=[2,3,4,5,6,8]\n",
    "l1=sorted(l)\n",
    "if l==l1:\n",
    "    print(True)\n",
    "else:\n",
    "    print(False)"
   ]
  },
  {
   "cell_type": "code",
   "execution_count": 17,
   "id": "3e805b06-d86f-495f-a75a-fa6eda05886f",
   "metadata": {},
   "outputs": [
    {
     "name": "stdout",
     "output_type": "stream",
     "text": [
      "first  sorted list are : [0, 1, 2, 3, 5]\n",
      "second sorted list are :  [4, 6, 7, 8, 9]\n",
      "to merger two sorted lists into a single sorted list : [0, 1, 2, 3, 4, 5, 6, 7, 8, 9]\n"
     ]
    }
   ],
   "source": [
    "#Q17.Write a code to merge two sorted lists into a single sorted list.\n",
    "list1=[2,5,0,3,1]\n",
    "list2=[4,7,8,6,9]\n",
    "list3=sorted(list1)+sorted(list2)\n",
    "print(\"first  sorted list are :\",sorted(list1))\n",
    "print(\"second sorted list are : \", sorted(list2))\n",
    "print(\"to merger two sorted lists into a single sorted list :\" ,sorted(list3))"
   ]
  },
  {
   "cell_type": "code",
   "execution_count": 18,
   "id": "83387c99-1a2c-4cf1-b4e6-6672a6b34de9",
   "metadata": {},
   "outputs": [
    {
     "name": "stdout",
     "output_type": "stream",
     "text": [
      "first list [2, 3, 4, 5, 6]\n",
      "second list [1, 2, 6, 7, 8]\n",
      "intersection of two given lists:  [2, 6]\n"
     ]
    }
   ],
   "source": [
    "#Q18. Implement a code to find the intersection of two given lists.\n",
    "list1=[2,3,4,5,6]\n",
    "list2=[1,2,6,7,8]\n",
    "set1=set(list1)\n",
    "set2=set(list2)\n",
    "print(\"first list\",list1)\n",
    "print(\"second list\",list2)\n",
    "print(\"intersection of two given lists: \",list(set1&set2))"
   ]
  },
  {
   "cell_type": "code",
   "execution_count": 19,
   "id": "a6a02a16-1993-4d85-99ad-51d8ccaf228a",
   "metadata": {},
   "outputs": [
    {
     "name": "stdout",
     "output_type": "stream",
     "text": [
      "union of two list: [1, 2, 4, 5, 7, 3, 6]\n"
     ]
    }
   ],
   "source": [
    "#Q19. Create a code to find the union of two list without duplicates.\n",
    "list1=[1,2,3,4,4,6]\n",
    "list2=[1,2,4,5,7]\n",
    "for i in list1:\n",
    "    if i not  in list2:\n",
    "        list2.append(i)\n",
    "print(\"union of two list:\",list2)"
   ]
  },
  {
   "cell_type": "code",
   "execution_count": 20,
   "id": "5a439d0a-69cc-47c7-a7a0-2b559704fb4c",
   "metadata": {},
   "outputs": [
    {
     "name": "stdout",
     "output_type": "stream",
     "text": [
      "[1, 2, 3, 4, 5, 6, 7, 8]\n"
     ]
    }
   ],
   "source": [
    "#Q20. Write a code to shuffle a give list randomly without using any built-in shuffle fuctions.\n",
    "import random\n",
    "def shuffle_list(input_list):\n",
    "    shuffled_list = input_list[:]\n",
    "    n = len(shuffled_list)\n",
    "    for i in range(n):\n",
    "        j= random.randint(0,n-1)\n",
    "        shuffled_list[i],shuffled_list[j]=shuffled_list[j],shuffled_list[i]\n",
    "        return shuffled_list\n",
    "my_list=[1,2,3,4,5,6,7,8]\n",
    "shuffled=shuffle_list(my_list)\n",
    "print(shuffled)"
   ]
  },
  {
   "cell_type": "code",
   "execution_count": 21,
   "id": "4d0dfca2-cbe4-422f-b140-a0de4c256c8d",
   "metadata": {},
   "outputs": [
    {
     "name": "stdout",
     "output_type": "stream",
     "text": [
      "first tuple: (2, 3, 4, 5, 6)\n",
      "second tuple: (3, 4, 2, 6, 7)\n",
      "tuple containing elements that are common to both input tuple; (2, 3, 4, 6)\n"
     ]
    }
   ],
   "source": [
    "#Q21. Write a code that takes two tuples as input and returns a new tuple containing elements\n",
    "#that are common to both  input tuple.\n",
    "tuple1=(2,3,4,5,6)\n",
    "tuple2=(3,4,2,6,7)\n",
    "set1=set(tuple1)\n",
    "set2=set(tuple2)\n",
    "tuple3=tuple(set1&set2)\n",
    "print(\"first tuple:\",tuple1)\n",
    "print(\"second tuple:\",tuple2)\n",
    "print(\"tuple containing elements that are common to both input tuple;\",tuple3)"
   ]
  },
  {
   "cell_type": "code",
   "execution_count": 22,
   "id": "28727254-ecb0-428b-bdb0-87e360d9a242",
   "metadata": {},
   "outputs": [
    {
     "name": "stdin",
     "output_type": "stream",
     "text": [
      "enter the integer of set1 : 2\n",
      "enter the integer of set2: 3\n"
     ]
    },
    {
     "name": "stdout",
     "output_type": "stream",
     "text": [
      "set1 : {2}\n",
      "set2 : {3}\n",
      "intersection of two set : set()\n"
     ]
    }
   ],
   "source": [
    "# Q22. Create a code that prompt the user to enter two sets of integers seperated by commas Then,print the \n",
    "#intersection of these two sets.\n",
    "set1=set(map(int, input(\"enter the integer of set1 :\").split(',')))\n",
    "set2=set(map(int, input(\"enter the integer of set2:\").split(',')))\n",
    "print(\"set1 :\",set1)\n",
    "print(\"set2 :\",set2)\n",
    "print(\"intersection of two set :\",set1&set2)"
   ]
  },
  {
   "cell_type": "code",
   "execution_count": 23,
   "id": "7c454138-2278-4b3a-91ff-0674595fdcfe",
   "metadata": {},
   "outputs": [
    {
     "name": "stdout",
     "output_type": "stream",
     "text": [
      "tuple first : ('a', 'b', 'c', 'd')\n",
      "tuple second: (1, 2, 3, 4)\n",
      "concatenate ttwo tuples :  ('a', 'b', 'c', 'd', 1, 2, 3, 4)\n"
     ]
    }
   ],
   "source": [
    "#Q23 Write a code to concatenate two tuples .The fuction should take two tuples as input\n",
    "#and retrun a new tuple containing elements\n",
    "tuple1=(\"a\",\"b\",\"c\",\"d\")\n",
    "tuple2=(1,2,3,4)\n",
    "print(\"tuple first :\",tuple1)\n",
    "print(\"tuple second:\",tuple2)\n",
    "print(\"concatenate ttwo tuples : \",tuple1+tuple2)"
   ]
  },
  {
   "cell_type": "code",
   "execution_count": 24,
   "id": "013893ce-0fd3-4c62-9462-4f33ed3d07e1",
   "metadata": {},
   "outputs": [
    {
     "name": "stdin",
     "output_type": "stream",
     "text": [
      "enter the string in first set: 2\n",
      "enter the string in second set: 3\n"
     ]
    },
    {
     "name": "stdout",
     "output_type": "stream",
     "text": [
      "First set: {'2'}\n",
      "second set: {'3'}\n",
      "whose element are present in the first set but not in second set : {'2'}\n"
     ]
    }
   ],
   "source": [
    "#Q24 Develop a code that prompts the user to input two sets of strings .Then, print the elements that are present\n",
    "#in the first set but not in the second set.\n",
    "set_first=set(map(str, input(\"enter the string in first set:\").split(',')))\n",
    "set_second=set(map(str,input(\"enter the string in second set:\").split(',')))\n",
    "print(\"First set:\",set_first)\n",
    "print(\"second set:\",set_second)\n",
    "print(\"whose element are present in the first set but not in second set :\",set_first-set_second)"
   ]
  },
  {
   "cell_type": "code",
   "execution_count": 25,
   "id": "406aeb7e-ad11-40e3-bc37-135ef443806c",
   "metadata": {},
   "outputs": [
    {
     "name": "stdout",
     "output_type": "stream",
     "text": [
      "original tuple within the specified range of indicies : (' index 2 : 3', ' index 3 : 3', ' index 4 : 2')\n"
     ]
    }
   ],
   "source": [
    "#Q25 Create a code that takes a tuple and two integers as input .The function should returan a new tuple containing elements\n",
    "#from the original tuple within the specified range of indicies.\n",
    "tuple1=(1,2,3,3,2,1,2,3,4,5,4,1,2,3,2,5,6,7,6,5,8,9)\n",
    "index1=2\n",
    "index2=5\n",
    "list1=[]\n",
    "for i in range(index1,index2):\n",
    "    list1.append(f\" index {i} : {tuple1[i]}\")\n",
    "new_tuple=tuple(list1)\n",
    "print(\"original tuple within the specified range of indicies :\",new_tuple)"
   ]
  },
  {
   "cell_type": "code",
   "execution_count": 26,
   "id": "b12b07d1-b7e4-4f7d-bfba-4b7df2bc47fa",
   "metadata": {},
   "outputs": [
    {
     "name": "stdin",
     "output_type": "stream",
     "text": [
      "enter the character: harsh\n",
      "enter the character : haRSH\n"
     ]
    },
    {
     "name": "stdout",
     "output_type": "stream",
     "text": [
      "unoin of two sets : {'R', 's', 'h', 'S', 'H', 'r', 'a'}\n"
     ]
    }
   ],
   "source": [
    "#Q26 Write  code that prompts the user to input two sets of chracters .Then,print the union of these two  sets.\n",
    "set1=set(input(\"enter the character:\"))\n",
    "set2=set(input(\"enter the character :\"))\n",
    "print(\"unoin of two sets :\",set1|set2)"
   ]
  },
  {
   "cell_type": "code",
   "execution_count": 27,
   "id": "b0fbf2c2-67ba-4933-bb9b-f1204f00810f",
   "metadata": {},
   "outputs": [
    {
     "name": "stdout",
     "output_type": "stream",
     "text": [
      "maximum number : 78 \n",
      "minimum number : 11\n"
     ]
    }
   ],
   "source": [
    "#Q27. Develop a code that takes a tuple of integers as input.The function should return the maximum and minimum values\n",
    "#from the tuple using tuple unpacking.\n",
    "def maxminnum(tuple2):\n",
    "    print(\"maximum number :\",max(tuple2),\"\\nminimum number :\",min(tuple2))\n",
    "tuple1=(33,22,11,66,78,54)\n",
    "tuple2=tuple1\n",
    "maxminnum(tuple2)"
   ]
  },
  {
   "cell_type": "code",
   "execution_count": 28,
   "id": "3b8752cd-a8ef-40af-a200-82170d94603e",
   "metadata": {},
   "outputs": [
    {
     "name": "stdout",
     "output_type": "stream",
     "text": [
      "set1 :  {34, 3, 2, 4, 5, 67, 11, 45, 22}\n",
      "set2 :  {67, 3, 4, 5, 8, 9, 43, 47, 89}\n",
      "union of two sets :  {34, 3, 2, 4, 5, 67, 8, 9, 11, 43, 45, 47, 22, 89}\n",
      "intersections of two sets :  {3, 67, 4, 5}\n",
      "differences  of these two sets :  {34, 2, 11, 45, 22}\n"
     ]
    }
   ],
   "source": [
    "#Q28.Create a code that defines two sets of integers.Then, print the union,intersection and differences of these two sets.\n",
    "set1={2,3,4,5,34,22,11,45,67}\n",
    "set2={3,4,5,8,9,67,89,43,47}\n",
    "print(\"set1 : \",set1)\n",
    "print(\"set2 : \",set2)\n",
    "print(\"union of two sets : \",set1|set2)\n",
    "print(\"intersections of two sets : \",set1&set2)\n",
    "print(\"differences  of these two sets : \" ,set1-set2)"
   ]
  },
  {
   "cell_type": "code",
   "execution_count": 29,
   "id": "61480a9d-e307-4002-8b3e-814eecb11d2c",
   "metadata": {},
   "outputs": [
    {
     "name": "stdin",
     "output_type": "stream",
     "text": [
      "enter the string of set first: harsh\n",
      "enter the string of set second: sonu\n"
     ]
    },
    {
     "name": "stdout",
     "output_type": "stream",
     "text": [
      "first set  {'harsh'}\n",
      "second set  {'sonu'}\n",
      "symmetric differences of these two sets :  {'sonu', 'harsh'}\n"
     ]
    }
   ],
   "source": [
    "#Q30. Develop a code that prompts the user to input two sets of strings.Then, print the symmetric differencesof these \n",
    "#two sets.\n",
    "set1=set(map(str,input(\"enter the string of set first:\").split(',')))\n",
    "set2=set(map(str,input(\"enter the string of set second:\").split(',')))\n",
    "print(\"first set \",set1)\n",
    "print(\"second set \",set2)\n",
    "print(\"symmetric differences of these two sets : \", set1^set2)"
   ]
  },
  {
   "cell_type": "code",
   "execution_count": 30,
   "id": "79dd0f09-b262-4373-adef-d9cde66c523d",
   "metadata": {},
   "outputs": [
    {
     "name": "stdout",
     "output_type": "stream",
     "text": [
      "{2: 2, 3: 2, 4: 2, 5: 2, 6: 2, 7: 2, 8: 1}\n"
     ]
    }
   ],
   "source": [
    "#Q31 Write a code that takes a list of words as input and returns a dicionary where the keys are unique words and the \n",
    "#values are the frequecies of those words in the input list.\n",
    "list1=[2,3,4,5,6,7,8,7,6,5,4,3,2]\n",
    "dict1={}\n",
    "for i in list1:\n",
    "    if i in dict1:\n",
    "        dict1[i]+=1\n",
    "    else:\n",
    "        dict1[i]=1\n",
    "print(dict1)"
   ]
  },
  {
   "cell_type": "code",
   "execution_count": 31,
   "id": "c089b1c5-dad7-49be-b030-49927cdbe9f7",
   "metadata": {},
   "outputs": [
    {
     "name": "stdout",
     "output_type": "stream",
     "text": [
      "merges them into a single dictionary : {'a': 5, 'b': 6, 'c': 6}\n"
     ]
    }
   ],
   "source": [
    "#Q32. Write a code that takes two dictionaries as input and merges them into a single dictionary .If there are coomon keys,\n",
    "# the values should be added together.\n",
    "dict1={\"a\":5,\"b\":3,\"c\":3}\n",
    "dict2={\"c\":7,\"d\":4,\"b\":4}\n",
    "merge_dict=dict1.copy()\n",
    "for key,value in dict1.items():\n",
    "    if key in dict2:\n",
    "        merge_dict[key]+=value\n",
    "    else:\n",
    "       merge_dict[key]=value\n",
    "print(\"merges them into a single dictionary :\",merge_dict)"
   ]
  },
  {
   "cell_type": "code",
   "execution_count": 32,
   "id": "7dfd0ae8-bc92-442c-849d-d77b95144004",
   "metadata": {},
   "outputs": [
    {
     "name": "stdout",
     "output_type": "stream",
     "text": [
      "information : Vaishnavi \n",
      " 21 \n",
      " 12\n"
     ]
    }
   ],
   "source": [
    "#Q33. Write a code to access a value in a nested dictionary. The function should take the dictionary and a list of keys\n",
    "#as input and return the corresponding value.If any of the keys do not exit in the dictionary,the function should\n",
    "#return None\n",
    "people={1:{\"name\" : \"Vaishnavi\",\"age\":21, \"class\":12}}\n",
    "print(\"information :\",people[1]['name'],\"\\n\",people[1]['age'],\"\\n\",people[1]['class'])"
   ]
  },
  {
   "cell_type": "code",
   "execution_count": 33,
   "id": "bf981d24-d49e-4750-af5b-5553a49f2504",
   "metadata": {},
   "outputs": [
    {
     "data": {
      "text/plain": [
       "[2, 3, 4, 4]"
      ]
     },
     "execution_count": 33,
     "metadata": {},
     "output_type": "execute_result"
    }
   ],
   "source": [
    "#Q34. Write a code that takes a dictionary as input and returns a sorte version of it based on the values .You con choose whether to sort in ascending\n",
    "#or descending order.\n",
    "dict1={\"a\":2,\"e\":3,\"c\":4,\"d\":4}\n",
    "sorted(dict1.values())"
   ]
  },
  {
   "cell_type": "code",
   "execution_count": 34,
   "id": "7d8864a1-31b5-4fa4-8530-3dadb1c44341",
   "metadata": {},
   "outputs": [
    {
     "name": "stdout",
     "output_type": "stream",
     "text": [
      "{34: ['a'], 4: ['c'], 5: ['d']}\n"
     ]
    }
   ],
   "source": [
    "#Q35. Write a code that inverts a dictionary ,swapping keys and values. Ensure that the inverted dictionary correctly handles cases\n",
    "#where multiple keys have \n",
    "original_dict={\"a\":34,\"c\":4,\"d\":5}\n",
    "inverted_dict={}\n",
    "for key,value in original_dict.items():\n",
    "    if value in inverted_dict:\n",
    "        inverted_dict[value].append(key)\n",
    "    else:\n",
    "        inverted_dict[value]=[key]\n",
    "print(inverted_dict)"
   ]
  },
  {
   "cell_type": "code",
   "execution_count": null,
   "id": "79549d08-a161-40a4-ab46-1f66ab2b16ef",
   "metadata": {},
   "outputs": [],
   "source": []
  }
 ],
 "metadata": {
  "kernelspec": {
   "display_name": "Python 3 (ipykernel)",
   "language": "python",
   "name": "python3"
  },
  "language_info": {
   "codemirror_mode": {
    "name": "ipython",
    "version": 3
   },
   "file_extension": ".py",
   "mimetype": "text/x-python",
   "name": "python",
   "nbconvert_exporter": "python",
   "pygments_lexer": "ipython3",
   "version": "3.10.8"
  }
 },
 "nbformat": 4,
 "nbformat_minor": 5
}
